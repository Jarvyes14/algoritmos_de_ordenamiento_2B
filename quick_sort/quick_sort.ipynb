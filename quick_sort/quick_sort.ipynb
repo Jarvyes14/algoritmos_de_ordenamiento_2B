{
 "cells": [
  {
   "cell_type": "code",
   "execution_count": 1,
   "metadata": {},
   "outputs": [
    {
     "name": "stdout",
     "output_type": "stream",
     "text": [
      "[3, 4, 12, 22, 23, 43, 46, 53, 66, 67, 78]\n"
     ]
    }
   ],
   "source": [
    "def quicksort(arr):\n",
    "    if not arr: #caso base \n",
    "        return [] #arr vacio\n",
    "    else:\n",
    "        pivot = arr[0] ##agarramos como pivot el primer elemento\n",
    "        iguales = [x for x in arr if x == pivot] #selecciona todos los elementos de la lista que sean iguales al pivot\n",
    "        menores = quicksort([x for x in arr if x < pivot]) #selecciona todos los elementos de la lista que sean menores al pivot\n",
    "        mayores = quicksort([x for x in arr if x > pivot]) #selecciona todos los elementos de la lista que sean mayores al pivot\n",
    "\n",
    "    return menores + iguales + mayores #se juntan en orden ascendente \n",
    "\n",
    "arr=[46,4,3,23,66,43,22,67,12,53,78]\n",
    "print(quicksort(arr))\n",
    "\n",
    "\n"
   ]
  },
  {
   "cell_type": "code",
   "execution_count": 2,
   "metadata": {},
   "outputs": [
    {
     "name": "stdout",
     "output_type": "stream",
     "text": [
      "[9, 13, 32, 43, 43, 67, 81, 87, 456]\n"
     ]
    }
   ],
   "source": [
    "arr=[67,43,32,87,43,9,81,13,456]\n",
    "print(quicksort(arr))"
   ]
  },
  {
   "cell_type": "code",
   "execution_count": 3,
   "metadata": {},
   "outputs": [
    {
     "name": "stdout",
     "output_type": "stream",
     "text": [
      "[2, 3, 4, 5, 5, 6, 7, 43, 64]\n"
     ]
    }
   ],
   "source": [
    "arr =[7,5,4,3,2,43,5,6,64]\n",
    "print(quicksort(arr))"
   ]
  },
  {
   "cell_type": "code",
   "execution_count": 4,
   "metadata": {},
   "outputs": [
    {
     "name": "stdout",
     "output_type": "stream",
     "text": [
      "[1, 2, 3, 4, 5, 6, 7, 8, 9]\n"
     ]
    }
   ],
   "source": [
    "arr=[9,8,7,6,5,4,3,2,1] #worst case ya que el pivot es el mayor, la lista solo se dividira en menores\n",
    "print(quicksort(arr))"
   ]
  },
  {
   "cell_type": "code",
   "execution_count": 5,
   "metadata": {},
   "outputs": [
    {
     "name": "stdout",
     "output_type": "stream",
     "text": [
      "[1, 2, 3, 4, 5, 6, 7, 8, 9, 10]\n"
     ]
    }
   ],
   "source": [
    "arr=[1,2,3,4,5,6,7,8,9,10] #worst case ya que el pivot es el menor, la lista solo se dividira en mayores\n",
    "print(quicksort(arr))"
   ]
  },
  {
   "cell_type": "code",
   "execution_count": 6,
   "metadata": {},
   "outputs": [
    {
     "name": "stdout",
     "output_type": "stream",
     "text": [
      "[8, 15, 21, 23, 45, 566]\n"
     ]
    }
   ],
   "source": [
    "arr = [15,23,45,21,566,8]\n",
    "print(quicksort(arr))"
   ]
  }
 ],
 "metadata": {
  "kernelspec": {
   "display_name": "Python 3",
   "language": "python",
   "name": "python3"
  },
  "language_info": {
   "codemirror_mode": {
    "name": "ipython",
    "version": 3
   },
   "file_extension": ".py",
   "mimetype": "text/x-python",
   "name": "python",
   "nbconvert_exporter": "python",
   "pygments_lexer": "ipython3",
   "version": "3.11.9"
  }
 },
 "nbformat": 4,
 "nbformat_minor": 2
}

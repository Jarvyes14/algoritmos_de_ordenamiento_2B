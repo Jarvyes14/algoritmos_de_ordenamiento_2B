{
 "cells": [
  {
   "cell_type": "code",
   "execution_count": 4,
   "metadata": {},
   "outputs": [],
   "source": [
    "def ord_seleccion(arreglo):\n",
    "    for i in range(len(arreglo) - 1):  # Bucle principal\n",
    "        menor = i  # Índice del menor valor encontrado\n",
    "        for j in range(i + 1, len(arreglo)):  # Bucle secundario\n",
    "            if arreglo[j] < arreglo[menor]:\n",
    "                menor = j\n",
    "        if menor != i:\n",
    "            arreglo[menor], arreglo[i] = arreglo[i], arreglo[menor]"
   ]
  },
  {
   "cell_type": "code",
   "execution_count": 5,
   "metadata": {},
   "outputs": [
    {
     "name": "stdout",
     "output_type": "stream",
     "text": [
      "[1, 2, 3, 4, 5]\n"
     ]
    }
   ],
   "source": [
    "\n",
    "arreglo = [3, 2, 1, 5, 4]\n",
    "ord_seleccion(arreglo) # [1, 2, 3, 4, 5]\n",
    "print(arreglo)"
   ]
  },
  {
   "cell_type": "code",
   "execution_count": 7,
   "metadata": {},
   "outputs": [
    {
     "name": "stdout",
     "output_type": "stream",
     "text": [
      "[2, 3, 4, 12, 46, 53, 54, 54, 63, 68, 76, 78, 78]\n"
     ]
    }
   ],
   "source": [
    "arreglo = [76,54,2,46,78,54,3,12,4,78,53,68,63]\n",
    "ord_seleccion(arreglo) # [2, 3, 4, 12, 46, 53, 54, 54, 63, 68, 76, 78, 78] \n",
    "print (arreglo)"
   ]
  }
 ],
 "metadata": {
  "kernelspec": {
   "display_name": "Python 3",
   "language": "python",
   "name": "python3"
  },
  "language_info": {
   "codemirror_mode": {
    "name": "ipython",
    "version": 3
   },
   "file_extension": ".py",
   "mimetype": "text/x-python",
   "name": "python",
   "nbconvert_exporter": "python",
   "pygments_lexer": "ipython3",
   "version": "3.11.9"
  }
 },
 "nbformat": 4,
 "nbformat_minor": 2
}
